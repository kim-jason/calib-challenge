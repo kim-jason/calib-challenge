{
  "nbformat": 4,
  "nbformat_minor": 0,
  "metadata": {
    "colab": {
      "name": "colab.ipynb",
      "provenance": [],
      "collapsed_sections": [],
      "authorship_tag": "ABX9TyMF0gYCKJ6C9sthkYb61oBQ",
      "include_colab_link": true
    },
    "kernelspec": {
      "name": "python3",
      "display_name": "Python 3"
    },
    "language_info": {
      "name": "python"
    }
  },
  "cells": [
    {
      "cell_type": "markdown",
      "metadata": {
        "id": "view-in-github",
        "colab_type": "text"
      },
      "source": [
        "<a href=\"https://colab.research.google.com/github/kim-jason/calib-challenge/blob/main/colab.ipynb\" target=\"_parent\"><img src=\"https://colab.research.google.com/assets/colab-badge.svg\" alt=\"Open In Colab\"/></a>"
      ]
    },
    {
      "cell_type": "code",
      "metadata": {
        "id": "OxPeygyiXF_L"
      },
      "source": [
        "import cv2\n",
        "import glob\n",
        "import tensorflow as tf\n",
        "import numpy as np\n",
        "import itertools\n",
        "from keras.models import Sequential\n",
        "from keras.layers import Conv2D, MaxPooling2D, AveragePooling2D, Conv1D, MaxPooling1D\n",
        "from keras.layers import Dense, Activation, Dropout, Flatten"
      ],
      "execution_count": 39,
      "outputs": []
    },
    {
      "cell_type": "code",
      "metadata": {
        "colab": {
          "base_uri": "https://localhost:8080/"
        },
        "id": "XZjno-jgbiOI",
        "outputId": "4ad8a7ef-90ed-430a-981c-fc8aa5c5f751"
      },
      "source": [
        "# ####CODE: SAVE ALL VIDEO FRAMES AS .JPG FOR THE FIVE LABELED VIDEOS#####\n",
        "# num_vids = 5 # Harded coded in\n",
        "# for num_vid in range(0, num_vids):\n",
        "#     vid = cv2.VideoCapture('./labeled/{i}.hevc'.format(i = num_vid))\n",
        "#     ret, frame = vid.read()\n",
        "#     num_frames = 0\n",
        "\n",
        "#     while ret:\n",
        "#         cv2.imwrite('./labeled/{i}/{i}.hevc_frame{num_frames}.jpg'.format(i = num_vid, num_frames = num_frames), frame)\n",
        "#         ret, frame = vid.read()\n",
        "#         num_frames += 1\n",
        "#     print(num_frames)\n",
        "#     vid.release()\n",
        "\n",
        "# print(\"Finished\")"
      ],
      "execution_count": 41,
      "outputs": [
        {
          "output_type": "stream",
          "text": [
            "1200\n",
            "1200\n",
            "1200\n",
            "1200\n",
            "1196\n",
            "Finished\n"
          ],
          "name": "stdout"
        }
      ]
    },
    {
      "cell_type": "code",
      "metadata": {
        "id": "8v9bn7aZYoyj",
        "colab": {
          "base_uri": "https://localhost:8080/",
          "height": 240
        },
        "outputId": "5074b134-4aa3-46c1-a79a-34d4034a3d59"
      },
      "source": [
        "####CODE: Create all the input arrays from the frames#####\n",
        "# images = {}\n",
        "\n",
        "# for num_image in range(5):\n",
        "#     image = glob.glob(\"./labeled/{num_image}/*.jpg\".format(num_image = num_image))\n",
        "#     images[num_image] = []\n",
        "\n",
        "#     for num_frame in range(len(image)):\n",
        "#         frame = cv2.imread(image[num_frame]) #Each frame is shape (874, 1164, 3)\n",
        "#         frame = frame.reshape(-1).astype('float64') \n",
        "#         frame /= 255.0\n",
        "#         images[num_image].append(frame)\n",
        "\n",
        "# frames = list(itertools.chain.from_iterable(list(images.values())))\n",
        "# print(frames[0].shape)\n",
        "# pritn(frames.shape)"
      ],
      "execution_count": 37,
      "outputs": [
        {
          "output_type": "error",
          "ename": "NameError",
          "evalue": "ignored",
          "traceback": [
            "\u001b[0;31m---------------------------------------------------------------------------\u001b[0m",
            "\u001b[0;31mNameError\u001b[0m                                 Traceback (most recent call last)",
            "\u001b[0;32m<ipython-input-37-64e569d41ed6>\u001b[0m in \u001b[0;36m<module>\u001b[0;34m()\u001b[0m\n\u001b[1;32m      3\u001b[0m \u001b[0;34m\u001b[0m\u001b[0m\n\u001b[1;32m      4\u001b[0m \u001b[0;32mfor\u001b[0m \u001b[0mnum_image\u001b[0m \u001b[0;32min\u001b[0m \u001b[0mrange\u001b[0m\u001b[0;34m(\u001b[0m\u001b[0;36m5\u001b[0m\u001b[0;34m)\u001b[0m\u001b[0;34m:\u001b[0m\u001b[0;34m\u001b[0m\u001b[0;34m\u001b[0m\u001b[0m\n\u001b[0;32m----> 5\u001b[0;31m     \u001b[0mimage\u001b[0m \u001b[0;34m=\u001b[0m \u001b[0mglob\u001b[0m\u001b[0;34m.\u001b[0m\u001b[0mglob\u001b[0m\u001b[0;34m(\u001b[0m\u001b[0;34m\"./labeled/{num_image}/*.jpg\"\u001b[0m\u001b[0;34m.\u001b[0m\u001b[0mformat\u001b[0m\u001b[0;34m(\u001b[0m\u001b[0mnum_image\u001b[0m \u001b[0;34m=\u001b[0m \u001b[0mnum_image\u001b[0m\u001b[0;34m)\u001b[0m\u001b[0;34m)\u001b[0m\u001b[0;34m\u001b[0m\u001b[0;34m\u001b[0m\u001b[0m\n\u001b[0m\u001b[1;32m      6\u001b[0m     \u001b[0mimages\u001b[0m\u001b[0;34m[\u001b[0m\u001b[0mnum_image\u001b[0m\u001b[0;34m]\u001b[0m \u001b[0;34m=\u001b[0m \u001b[0;34m[\u001b[0m\u001b[0;34m]\u001b[0m\u001b[0;34m\u001b[0m\u001b[0;34m\u001b[0m\u001b[0m\n\u001b[1;32m      7\u001b[0m \u001b[0;34m\u001b[0m\u001b[0m\n",
            "\u001b[0;31mNameError\u001b[0m: name 'glob' is not defined"
          ]
        }
      ]
    },
    {
      "cell_type": "code",
      "metadata": {
        "id": "k2UQPP0Pbpzp"
      },
      "source": [
        "# #####CODE: Create all the output values for each frame in the same order#####\n",
        "# values = []\n",
        "# for i in range(5):\n",
        "#     with open('./labeled/{i}.txt'.format(i = i)) as f:\n",
        "#         lines = f.readlines()\n",
        "#         values.append(lines)\n",
        "# values = list(itertools.chain.from_iterable(values))\n",
        "\n",
        "# pitch_values = []\n",
        "# yaw_values = []\n",
        "\n",
        "# for value in values:\n",
        "#     pitch, yaw = value.split(' ')\n",
        "#     pitch = float(pitch)\n",
        "#     yaw = float(yaw)\n",
        "    \n",
        "#     pitch_values.append(pitch)\n",
        "#     yaw_values.append(yaw)\n",
        "\n",
        "\n",
        "\n"
      ],
      "execution_count": null,
      "outputs": []
    },
    {
      "cell_type": "code",
      "metadata": {
        "id": "6aY6mFXNbqJ9"
      },
      "source": [
        "# # Configure the neural network model\n",
        "# model = Sequential()\n",
        "\n",
        "# # Model with 100 Neurons - inputshape = 100 Timestamps\n",
        "# model.add(LSTM(100, return_sequences=True, input_shape=(128, 128, 3)))\n",
        "# model.add(LSTM(100, return_sequences=False))\n",
        "# model.add(Dense(25, activation='relu'))\n",
        "# model.add(Dense(1))\n",
        "\n",
        "# # Compile the model\n",
        "# model.compile(optimizer='adam', loss='mean_squared_error')\n",
        "\n",
        "# model.summary()\n",
        "\n",
        "# model.fit(frames, pitch_values, batch_size = 16, epochs=10)\n",
        "\n",
        "\n",
        "\n",
        "\n",
        "print(\"FINISHED\")# #####CODE: Create all the output values for each frame in the same order#####\n",
        "# values = []\n",
        "# for i in range(5):\n",
        "#     with open('./labeled/{i}.txt'.format(i = i)) as f:\n",
        "#         lines = f.readlines()\n",
        "#         values.append(lines)\n",
        "# values = list(itertools.chain.from_iterable(values))\n",
        "\n",
        "# pitch_values = []\n",
        "# yaw_values = []\n",
        "\n",
        "# for value in values:\n",
        "#     pitch, yaw = value.split(' ')\n",
        "#     pitch = float(pitch)\n",
        "#     yaw = float(yaw)\n",
        "    \n",
        "#     pitch_values.append(pitch)\n",
        "#     yaw_values.append(yaw)\n",
        "\n",
        "\n",
        "\n",
        "# # Configure the neural network model\n",
        "# model = Sequential()\n",
        "\n",
        "# # Model with 100 Neurons - inputshape = 100 Timestamps\n",
        "# model.add(LSTM(100, return_sequences=True, input_shape=(128, 128, 3)))\n",
        "# model.add(LSTM(100, return_sequences=False))\n",
        "# model.add(Dense(25, activation='relu'))\n",
        "# model.add(Dense(1))\n",
        "\n",
        "# # Compile the model\n",
        "# model.compile(optimizer='adam', loss='mean_squared_error')\n",
        "\n",
        "# model.summary()\n",
        "\n",
        "# model.fit(frames, pitch_values, batch_size = 16, epochs=10)\n",
        "\n",
        "\n",
        "\n",
        "\n",
        "print(\"FINISHED\")"
      ],
      "execution_count": null,
      "outputs": []
    }
  ]
}